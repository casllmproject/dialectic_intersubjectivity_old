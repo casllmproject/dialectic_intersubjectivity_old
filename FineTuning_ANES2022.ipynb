{
  "nbformat": 4,
  "nbformat_minor": 0,
  "metadata": {
    "colab": {
      "provenance": [],
      "authorship_tag": "ABX9TyOMamHe+QRmfpZrAzJO+l07",
      "include_colab_link": true
    },
    "kernelspec": {
      "name": "python3",
      "display_name": "Python 3"
    },
    "language_info": {
      "name": "python"
    }
  },
  "cells": [
    {
      "cell_type": "markdown",
      "metadata": {
        "id": "view-in-github",
        "colab_type": "text"
      },
      "source": [
        "<a href=\"https://colab.research.google.com/github/casllmproject/dialectic_intersubjectivity/blob/main/FineTuning_ANES2022.ipynb\" target=\"_parent\"><img src=\"https://colab.research.google.com/assets/colab-badge.svg\" alt=\"Open In Colab\"/></a>"
      ]
    },
    {
      "cell_type": "code",
      "source": [
        "import pandas as pd\n",
        "import openai\n",
        "import numpy as np\n",
        "import json\n",
        "import time\n",
        "import os\n",
        "from dotenv import load_dotenv\n",
        "from collections import Counter\n",
        "from collections import deque\n",
        "from tqdm import tqdm\n",
        "import re\n",
        "import tiktoken # for token counting\n",
        "from collections import defaultdict"
      ],
      "metadata": {
        "id": "mbvXJylaHwqf"
      },
      "execution_count": null,
      "outputs": []
    },
    {
      "cell_type": "code",
      "source": [
        "# load ANES2020-22 Social Media Panel Survey\n",
        "anes = pd.read_csv(\"{ANES}.csv\")"
      ],
      "metadata": {
        "id": "oi0znPYnnQOh"
      },
      "execution_count": null,
      "outputs": []
    },
    {
      "cell_type": "code",
      "source": [
        "anes.columns[:60]"
      ],
      "metadata": {
        "id": "w7ROPoWnpacr"
      },
      "execution_count": null,
      "outputs": []
    },
    {
      "cell_type": "code",
      "source": [
        "# Mapping of scales to human-readable labels\n",
        "gender_map = {0: 'Unknown', 1: 'Male', 2: 'Female'}\n",
        "race_map = {1: 'White, non-hispanic', 2: 'Black, non-hispanic',\n",
        "            3: 'Other, non-Hispanic (includes Asian non-hispanic)', 4: 'Hispanic'}\n",
        "educ_map = {1: 'Less than HS', 2: 'HS graduate or equivalent', 3: 'Vocational/tech school/some college/ associates',\n",
        "            4: 'Bachelor degree', 5: 'Post grad study/professional degree'}\n",
        "income_map = {1: 'Less than $5,000', 2: '$5,000 to $9,999', 3: '$10,000 to $14,999',\n",
        "              4: '$15,000 to $19,999', 5: '$20,000 to $24,999', 6: '$25,000 to $29,999',\n",
        "              7: '$30,000 to $34,999', 8: '$35,000 to $39,999', 9: '$40,000 to $49,999',\n",
        "              10: '$50,000 to $59,999', 11: '$60,000 to $74,999', 12: '$75,000 to $84,999',\n",
        "              13: '$85,000 to $99,999', 14: '$100,000 to $124,999', 15: '$125,000 to $149,999',\n",
        "              16: '$150,000 to $174,999', 17: '$175,000 to $199,999', 18: '$200,000 or more'}\n",
        "party_map = {-7: 'No answer', -6: 'Unit non-response', -1: 'Inapplicable, legitimate skip',\n",
        "             1: 'Very liberal', 2: 'Somewhat liberal', 3: 'Closer to liberal',\n",
        "             4: 'Neither liberal nor conservative', 5: 'Closer to conservatives',\n",
        "             6: 'Somewhat conservative', 7: 'Very conservative',\n",
        "             77: \"DON'T KNOW\", 98: \"SKIPPED ON WEB\", 99: \"REFUSED\"}\n",
        "trust_map = {-7: 'No answer', -6: 'Unit non-response', -1: 'Inapplicable, legitimate skip',\n",
        "             1: 'Not at all', 2: 'A little', 3: 'A moderate amount',\n",
        "             4: 'A lot', 5: 'A great deal',\n",
        "             77: \"DON'T KNOW\", 98: \"SKIPPED ON WEB\", 99: \"REFUSED\"}\n",
        "\n",
        "# Apply mapping to the DataFrame\n",
        "anes['profile_gender'] = anes['profile_gender'].map(gender_map)\n",
        "anes['profile_racethnicity'] = anes['profile_racethnicity'].map(race_map)\n",
        "anes['profile_educ5'] = anes['profile_educ5'].map(educ_map)\n",
        "anes['profile_income'] = anes['profile_income'].map(income_map)\n",
        "anes['w3lcself'] = anes['w3lcself'].map(party_map)\n",
        "anes['w3lcd'] = anes['w3lcd'].map(party_map)\n",
        "anes['w3lcr'] = anes['w3lcr'].map(party_map)\n",
        "anes['w3trustfox'] = anes['w3trustfox'].map(trust_map)\n",
        "anes['w3trustmscnbc'] = anes['w3trustmscnbc'].map(trust_map)\n",
        "\n",
        "# Define the questions for each variable\n",
        "questions = {\n",
        "    'profile_gender': 'What is your gender?',\n",
        "    'profile_age': 'What is your age?',\n",
        "    'profile_racethnicity': 'What is your race/ethnicity?',\n",
        "    'profile_educ5': 'What is your highest level of education?',\n",
        "    'profile_income': 'What is your income level?',\n",
        "    'w3lcself': 'When it comes to politics, would you describe yourself as liberal, conservative, or neither liberal nor conservative?',\n",
        "    'w3lcd': 'When it comes to politics, would you describe Democratic Party as liberal, conservative, or neither liberal nor conservative?',\n",
        "    'w3lcr': 'When it comes to politics, would you describe Republican Party as liberal, conservative, or neither liberal nor conservative?',\n",
        "    'w3trustfox': 'How much do you think political information from Fox News can be trusted?',\n",
        "    'w3trustmscnbc': 'How much do you think political information from MSNBC can be trusted?'\n",
        "}"
      ],
      "metadata": {
        "id": "icFpzZoOWxr3"
      },
      "execution_count": null,
      "outputs": []
    },
    {
      "cell_type": "code",
      "source": [
        "# Function to save the chat training data to a JSONL file\n",
        "def save_to_jsonl(data, filename):\n",
        "    with open(filename, \"w\") as f:\n",
        "        for entry in data:\n",
        "            f.write(json.dumps(entry) + \"\\n\")"
      ],
      "metadata": {
        "id": "hRZ3urkuXAyB"
      },
      "execution_count": null,
      "outputs": []
    },
    {
      "cell_type": "code",
      "source": [
        "# Prepare chat training data\n",
        "chat_training_data = []\n",
        "for _, row in anes.iterrows():\n",
        "    user_message = (\n",
        "        f\"Demographics: {questions['profile_gender']} {row['profile_gender']}, \"\n",
        "        f\"{questions['profile_age']} {row['profile_age']}, \"\n",
        "        f\"{questions['profile_racethnicity']} {row['profile_racethnicity']}, \"\n",
        "        f\"{questions['profile_educ5']} {row['profile_educ5']}, \"\n",
        "        f\"{questions['profile_income']} {row['profile_income']}. \"\n",
        "        f\"Responses: {questions['w3lcself']} {row['w3lcself']}, {questions['w3lcd']} {row['w3lcd']}, \"\n",
        "        f\"{questions['w3lcr']} {row['w3lcr']}, {questions['w3trustfox']} {row['w3trustfox']}, \"\n",
        "        f\"{questions['w3trustmscnbc']} {row['w3trustmscnbc']}.\"\n",
        "    )\n",
        "\n",
        "    assistant_message = \"Provide insights based on the traits and responses.\"\n",
        "\n",
        "    chat_training_data.append({\n",
        "        \"messages\": [\n",
        "            {\"role\": \"user\", \"content\": user_message},\n",
        "            {\"role\": \"assistant\", \"content\": assistant_message}\n",
        "        ]\n",
        "    })\n",
        "\n",
        "# Save to JSONL format\n",
        "save_to_jsonl(chat_training_data, \"{folder}_chat_training_data.jsonl\")"
      ],
      "metadata": {
        "id": "Ybe4q7TCXD8-"
      },
      "execution_count": null,
      "outputs": []
    },
    {
      "cell_type": "code",
      "source": [
        "# Function to test if the JSONL file is correctly formatted\n",
        "def test_jsonl_file(filename):\n",
        "    try:\n",
        "        with open(filename, \"r\") as f:\n",
        "            for i, line in enumerate(f, 1):\n",
        "                try:\n",
        "                    json_data = json.loads(line)\n",
        "                    if \"messages\" not in json_data or not isinstance(json_data[\"messages\"], list):\n",
        "                        print(f\"Error on line {i}: 'messages' field missing or not a list.\")\n",
        "                        return False\n",
        "                    for message in json_data[\"messages\"]:\n",
        "                        if \"role\" not in message or \"content\" not in message:\n",
        "                            print(f\"Error on line {i}: 'role' or 'content' field missing.\")\n",
        "                            return False\n",
        "                        if message[\"role\"] not in [\"user\", \"assistant\"]:\n",
        "                            print(f\"Error on line {i}: Invalid 'role' value.\")\n",
        "                            return False\n",
        "                except json.JSONDecodeError:\n",
        "                    print(f\"Error on line {i}: Invalid JSON format.\")\n",
        "                    return False\n",
        "        print(\"File is valid.\")\n",
        "        return True\n",
        "    except FileNotFoundError:\n",
        "        print(f\"File {filename} not found.\")\n",
        "        return False\n",
        "\n",
        "# Test the generated JSONL file\n",
        "test_jsonl_file(\"/content/drive/MyDrive/CASLLM/chat_training_data.jsonl\")"
      ],
      "metadata": {
        "id": "BqFC5p06XMWX",
        "collapsed": true
      },
      "execution_count": null,
      "outputs": []
    },
    {
      "cell_type": "code",
      "source": [
        "# Show the first 5 rows of the generated JSONL file\n",
        "def preview_jsonl_file(filename, num_lines=5):\n",
        "    try:\n",
        "        with open(filename, \"r\") as f:\n",
        "            lines = [json.loads(next(f).strip()) for _ in range(num_lines)]\n",
        "        return lines\n",
        "    except FileNotFoundError:\n",
        "        return f\"File {filename} not found.\"\n",
        "    except StopIteration:\n",
        "        return \"The file contains fewer lines than requested.\"\n"
      ],
      "metadata": {
        "id": "JM3wEptAYZDD"
      },
      "execution_count": null,
      "outputs": []
    },
    {
      "cell_type": "code",
      "source": [
        "preview_jsonl_file(\"{folder}_chat_training_data.jsonl\", 1)"
      ],
      "metadata": {
        "id": "RFY9RjjIYOVS"
      },
      "execution_count": null,
      "outputs": []
    },
    {
      "cell_type": "code",
      "source": [
        "# Set the API key by reading from the file\n",
        "openai.api_key = open(\"{folder}_apikey.txt\", \"r\").read().strip(\"\\n\")\n",
        "\n",
        "# Upload the JSONL file for fine-tuning\n",
        "response = openai.File.create(\n",
        "    file=open(\"{folder}_chat_training_data.jsonl\", \"rb\"),\n",
        "    purpose=\"fine-tune\"\n",
        ")\n",
        "\n",
        "# Print the response to check if the file was uploaded successfully\n",
        "print(f\"File uploaded successfully: {response['id']}\")\n"
      ],
      "metadata": {
        "id": "VGq-ZuseYjbU"
      },
      "execution_count": null,
      "outputs": []
    },
    {
      "cell_type": "code",
      "source": [
        "# Create the fine-tuning job using the provided file ID\n",
        "fine_tune_response = openai.FineTuningJob.create(\n",
        "    training_file=\"file-tsXROXOjcqq798LzzUPIgKbc\",\n",
        "    model=\"gpt-4o-2024-08-06\"\n",
        ")\n",
        "print(\"Fine-tuning job created:\", fine_tune_response)"
      ],
      "metadata": {
        "id": "BigKRWM2OTa6"
      },
      "execution_count": null,
      "outputs": []
    },
    {
      "cell_type": "code",
      "source": [
        "# Check the fine-tuning job using the provided file ID\n",
        "fine_tune_status = openai.FineTuningJob.retrieve(id=\"{fine_tunning_ID}\")\n",
        "print(\"Fine-tuning status:\", fine_tune_status)"
      ],
      "metadata": {
        "id": "tfzV6HSKYuJv"
      },
      "execution_count": null,
      "outputs": []
    }
  ]
}